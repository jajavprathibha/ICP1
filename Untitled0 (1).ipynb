{
  "cells": [
    {
      "cell_type": "code",
      "execution_count": null,
      "metadata": {
        "colab": {
          "base_uri": "https://localhost:8080/"
        },
        "id": "lTWUYeZ1zXr8",
        "outputId": "1c516717-df60-41ca-8a01-5bbc63e43710"
      },
      "outputs": [
        {
          "name": "stdout",
          "output_type": "stream",
          "text": [
            "Enter the string 'Python': Python\n",
            "The resultant reversed string is: nhyP\n"
          ]
        }
      ],
      "source": [
        "input_string = list(input(\"Enter the string 'Python': \"))\n",
        "if input_string != list(\"Python\"):\n",
        "    print(\"Enter the string exactly as'Python'\")\n",
        "else:\n",
        "    del input_string[4]\n",
        "    del input_string[2]\n",
        "    input_string.reverse()\n",
        "    result_string = ''.join(input_string)\n",
        "    print(\"The resultant reversed string is:\", result_string)"
      ]
    },
    {
      "cell_type": "code",
      "execution_count": null,
      "metadata": {
        "colab": {
          "base_uri": "https://localhost:8080/"
        },
        "id": "_xlFE3u0zw5m",
        "outputId": "8616bb4a-7ab0-4185-8165-01336d879d68"
      },
      "outputs": [
        {
          "name": "stdout",
          "output_type": "stream",
          "text": [
            "Enter a sentence:  I love playing with python\n",
            "Modified sentence:  I love playing with pythons\n"
          ]
        }
      ],
      "source": [
        "input_sentence = input(\"Enter a sentence: \")\n",
        "modified_sentence = input_sentence.replace('python', 'pythons')\n",
        "print(\"Modified sentence:\", modified_sentence)"
      ]
    },
    {
      "cell_type": "code",
      "execution_count": null,
      "metadata": {
        "colab": {
          "base_uri": "https://localhost:8080/"
        },
        "id": "h4xrmU4Kz-SO",
        "outputId": "2639abd0-a858-456b-a391-84c1d47b414e"
      },
      "outputs": [
        {
          "name": "stdout",
          "output_type": "stream",
          "text": [
            "Enter your class score: 85\n",
            "The grade is: B\n"
          ]
        }
      ],
      "source": [
        "cl_scr = int(input(\"Enter your class score: \"))\n",
        "if 90 <= cl_scr <= 100:\n",
        "\n",
        "    grade = 'A'\n",
        "elif 80 <= cl_scr < 90:\n",
        "    grade = 'B'\n",
        "elif 70 <= cl_scr < 80:\n",
        "    grade = 'C'\n",
        "elif 60 <= cl_scr < 70:\n",
        "    grade = 'D'\n",
        "elif 50 <= cl_scr < 60:\n",
        "    grade = 'F'\n",
        "else:\n",
        "    grade = 'Invalid score'\n",
        "print(\"The grade is:\", grade)"
      ]
    }
  ],
  "metadata": {
    "colab": {
      "provenance": []
    },
    "kernelspec": {
      "display_name": "Python 3",
      "name": "python3"
    },
    "language_info": {
      "name": "python"
    }
  },
  "nbformat": 4,
  "nbformat_minor": 0
}
